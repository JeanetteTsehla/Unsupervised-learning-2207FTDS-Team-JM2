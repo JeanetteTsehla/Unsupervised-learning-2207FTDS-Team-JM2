{
  "cells": [
    {
      "cell_type": "markdown",
      "metadata": {
        "id": "view-in-github",
        "colab_type": "text"
      },
      "source": [
        "<a href=\"https://colab.research.google.com/github/JeanetteTsehla/Unsupervised-learning-2207FTDS-Team-JM2/blob/mmoshabe/Unsupervised%20learning%202207FTDS%20Team%20JM2%20.ipynb\" target=\"_parent\"><img src=\"https://colab.research.google.com/assets/colab-badge.svg\" alt=\"Open In Colab\"/></a>"
      ]
    },
    {
      "cell_type": "markdown",
      "id": "0bd8f26a",
      "metadata": {
        "id": "0bd8f26a"
      },
      "source": [
        "## Unsupervised Learning Team JM2"
      ]
    },
    {
      "cell_type": "markdown",
      "id": "05600c92",
      "metadata": {
        "id": "05600c92"
      },
      "source": [
        "<a id=\"cont\"></a>\n",
        "\n",
        "## Table of Contents\n",
        "\n",
        "<a href=#one>1. Setting up Comet</a>\n",
        "\n",
        "<a href=#two>2. Importing Packages</a>\n",
        "\n",
        "<a href=#three>3. Loading Data</a>\n",
        "\n",
        "<a href=#four>4. Exploratory Data Analysis (EDA)</a>\n",
        "\n",
        "<a href=#five>5. Data Engineering</a>\n",
        "\n",
        "<a href=#six>6. Modeling</a>\n",
        "\n",
        "<a href=#seven>7. Model Performance</a>\n",
        "\n",
        "<a href=#eight>8. Model Explanations</a>"
      ]
    },
    {
      "cell_type": "markdown",
      "source": [],
      "metadata": {
        "id": "B0exax-C9Qjn"
      },
      "id": "B0exax-C9Qjn"
    },
    {
      "cell_type": "markdown",
      "metadata": {
        "id": "oqENaXTx9RGc"
      },
      "source": [
        " <a id=\"one\"></a>\n",
        "## 1. Setting up Comet\n",
        "<a href=#cont>Back to Table of Contents</a>\n",
        "\n",
        "---\n",
        "    \n",
        "| ⚡ Description: Setting up Comet ⚡ |\n",
        "| :--------------------------- |\n",
        "| In this section you are required to import, and briefly discuss, the libraries that will be used throughout your analysis and modelling. |\n",
        "\n",
        "---"
      ],
      "id": "oqENaXTx9RGc"
    },
    {
      "cell_type": "code",
      "source": [
        "#install comet\n",
        "!pip install comet_ml\n",
        "\n",
        "# Import comet_ml at the top of your file\n",
        "from comet_ml import Experiment\n",
        "\n",
        "# Create an experiment with your api key\n",
        "experiment = Experiment(\n",
        "    api_key=\"Unml4ny8dLybgPurSJSJfpk36\",\n",
        "    project_name=\"general\",\n",
        "    workspace=\"mmoshabe\",\n",
        ")\n",
        "\n",
        "# Run your code and go to /"
      ],
      "metadata": {
        "id": "Oa2xp3J--Np9"
      },
      "id": "Oa2xp3J--Np9",
      "execution_count": null,
      "outputs": []
    },
    {
      "cell_type": "markdown",
      "id": "997462e2",
      "metadata": {
        "id": "997462e2"
      },
      "source": [
        " <a id=\"two\"></a>\n",
        "## 2. Importing Packages\n",
        "<a href=#cont>Back to Table of Contents</a>\n",
        "\n",
        "---\n",
        "    \n",
        "| ⚡ Description: Importing Packages ⚡ |\n",
        "| :--------------------------- |\n",
        "| In this section you are required to import, and briefly discuss, the libraries that will be used throughout your analysis and modelling. |\n",
        "\n",
        "---"
      ]
    },
    {
      "cell_type": "code",
      "execution_count": 20,
      "id": "475dbe93",
      "metadata": {
        "ExecuteTime": {
          "end_time": "2021-06-23T10:30:53.800892Z",
          "start_time": "2021-06-23T10:30:50.215449Z"
        },
        "colab": {
          "base_uri": "https://localhost:8080/"
        },
        "id": "475dbe93",
        "outputId": "221289b2-6312-4b1f-e32b-e46a71454b89"
      },
      "outputs": [
        {
          "output_type": "stream",
          "name": "stdout",
          "text": [
            "Looking in indexes: https://pypi.org/simple, https://us-python.pkg.dev/colab-wheels/public/simple/\n",
            "Collecting comet_ml\n",
            "  Downloading comet_ml-3.31.22-py3-none-any.whl (450 kB)\n",
            "\u001b[2K     \u001b[90m━━━━━━━━━━━━━━━━━━━━━━━━━━━━━━━━━━━━━━\u001b[0m \u001b[32m450.4/450.4 KB\u001b[0m \u001b[31m17.8 MB/s\u001b[0m eta \u001b[36m0:00:00\u001b[0m\n",
            "\u001b[?25hCollecting dulwich!=0.20.33,>=0.20.6\n",
            "  Downloading dulwich-0.20.50-cp38-cp38-manylinux_2_17_x86_64.manylinux2014_x86_64.whl (502 kB)\n",
            "\u001b[2K     \u001b[90m━━━━━━━━━━━━━━━━━━━━━━━━━━━━━━━━━━━━━━\u001b[0m \u001b[32m502.2/502.2 KB\u001b[0m \u001b[31m45.1 MB/s\u001b[0m eta \u001b[36m0:00:00\u001b[0m\n",
            "\u001b[?25hRequirement already satisfied: jsonschema!=3.1.0,>=2.6.0 in /usr/local/lib/python3.8/dist-packages (from comet_ml) (4.3.3)\n",
            "Requirement already satisfied: wrapt>=1.11.2 in /usr/local/lib/python3.8/dist-packages (from comet_ml) (1.14.1)\n",
            "Collecting websocket-client<1.4.0,>=0.55.0\n",
            "  Downloading websocket_client-1.3.3-py3-none-any.whl (54 kB)\n",
            "\u001b[2K     \u001b[90m━━━━━━━━━━━━━━━━━━━━━━━━━━━━━━━━━━━━━━━━\u001b[0m \u001b[32m54.3/54.3 KB\u001b[0m \u001b[31m6.9 MB/s\u001b[0m eta \u001b[36m0:00:00\u001b[0m\n",
            "\u001b[?25hCollecting semantic-version>=2.8.0\n",
            "  Downloading semantic_version-2.10.0-py2.py3-none-any.whl (15 kB)\n",
            "Requirement already satisfied: six in /usr/local/lib/python3.8/dist-packages (from comet_ml) (1.15.0)\n",
            "Collecting sentry-sdk>=1.1.0\n",
            "  Downloading sentry_sdk-1.13.0-py2.py3-none-any.whl (177 kB)\n",
            "\u001b[2K     \u001b[90m━━━━━━━━━━━━━━━━━━━━━━━━━━━━━━━━━━━━━━\u001b[0m \u001b[32m177.4/177.4 KB\u001b[0m \u001b[31m20.7 MB/s\u001b[0m eta \u001b[36m0:00:00\u001b[0m\n",
            "\u001b[?25hCollecting everett[ini]>=1.0.1\n",
            "  Downloading everett-3.1.0-py2.py3-none-any.whl (35 kB)\n",
            "Collecting wurlitzer>=1.0.2\n",
            "  Downloading wurlitzer-3.0.3-py3-none-any.whl (7.3 kB)\n",
            "Collecting simplejson\n",
            "  Downloading simplejson-3.18.1-cp38-cp38-manylinux_2_5_x86_64.manylinux1_x86_64.manylinux_2_17_x86_64.manylinux2014_x86_64.whl (135 kB)\n",
            "\u001b[2K     \u001b[90m━━━━━━━━━━━━━━━━━━━━━━━━━━━━━━━━━━━━━━\u001b[0m \u001b[32m135.5/135.5 KB\u001b[0m \u001b[31m14.5 MB/s\u001b[0m eta \u001b[36m0:00:00\u001b[0m\n",
            "\u001b[?25hRequirement already satisfied: requests>=2.18.4 in /usr/local/lib/python3.8/dist-packages (from comet_ml) (2.25.1)\n",
            "Collecting requests-toolbelt>=0.8.0\n",
            "  Downloading requests_toolbelt-0.10.1-py2.py3-none-any.whl (54 kB)\n",
            "\u001b[2K     \u001b[90m━━━━━━━━━━━━━━━━━━━━━━━━━━━━━━━━━━━━━━━━\u001b[0m \u001b[32m54.5/54.5 KB\u001b[0m \u001b[31m6.7 MB/s\u001b[0m eta \u001b[36m0:00:00\u001b[0m\n",
            "\u001b[?25hCollecting urllib3>=1.25\n",
            "  Downloading urllib3-1.26.14-py2.py3-none-any.whl (140 kB)\n",
            "\u001b[2K     \u001b[90m━━━━━━━━━━━━━━━━━━━━━━━━━━━━━━━━━━━━━━\u001b[0m \u001b[32m140.6/140.6 KB\u001b[0m \u001b[31m17.5 MB/s\u001b[0m eta \u001b[36m0:00:00\u001b[0m\n",
            "\u001b[?25hCollecting configobj\n",
            "  Downloading configobj-5.0.6.tar.gz (33 kB)\n",
            "  Preparing metadata (setup.py) ... \u001b[?25l\u001b[?25hdone\n",
            "Requirement already satisfied: pyrsistent!=0.17.0,!=0.17.1,!=0.17.2,>=0.14.0 in /usr/local/lib/python3.8/dist-packages (from jsonschema!=3.1.0,>=2.6.0->comet_ml) (0.19.3)\n",
            "Requirement already satisfied: attrs>=17.4.0 in /usr/local/lib/python3.8/dist-packages (from jsonschema!=3.1.0,>=2.6.0->comet_ml) (22.2.0)\n",
            "Requirement already satisfied: importlib-resources>=1.4.0 in /usr/local/lib/python3.8/dist-packages (from jsonschema!=3.1.0,>=2.6.0->comet_ml) (5.10.2)\n",
            "Requirement already satisfied: chardet<5,>=3.0.2 in /usr/local/lib/python3.8/dist-packages (from requests>=2.18.4->comet_ml) (4.0.0)\n",
            "Requirement already satisfied: idna<3,>=2.5 in /usr/local/lib/python3.8/dist-packages (from requests>=2.18.4->comet_ml) (2.10)\n",
            "Requirement already satisfied: certifi>=2017.4.17 in /usr/local/lib/python3.8/dist-packages (from requests>=2.18.4->comet_ml) (2022.12.7)\n",
            "Requirement already satisfied: zipp>=3.1.0 in /usr/local/lib/python3.8/dist-packages (from importlib-resources>=1.4.0->jsonschema!=3.1.0,>=2.6.0->comet_ml) (3.11.0)\n",
            "Building wheels for collected packages: configobj\n",
            "  Building wheel for configobj (setup.py) ... \u001b[?25l\u001b[?25hdone\n",
            "  Created wheel for configobj: filename=configobj-5.0.6-py3-none-any.whl size=34547 sha256=31fe8c70df5edf7346f397eaeca1f324744a3d261a9eb4df415df4ab40b13606\n",
            "  Stored in directory: /root/.cache/pip/wheels/34/2a/24/a490264ae9041fd48f778ff393526572c80bb498ddecb07ea5\n",
            "Successfully built configobj\n",
            "Installing collected packages: everett, wurlitzer, websocket-client, urllib3, simplejson, semantic-version, configobj, sentry-sdk, dulwich, requests-toolbelt, comet_ml\n",
            "  Attempting uninstall: urllib3\n",
            "    Found existing installation: urllib3 1.24.3\n",
            "    Uninstalling urllib3-1.24.3:\n",
            "      Successfully uninstalled urllib3-1.24.3\n",
            "Successfully installed comet_ml-3.31.22 configobj-5.0.6 dulwich-0.20.50 everett-3.1.0 requests-toolbelt-0.10.1 semantic-version-2.10.0 sentry-sdk-1.13.0 simplejson-3.18.1 urllib3-1.26.14 websocket-client-1.3.3 wurlitzer-3.0.3\n"
          ]
        }
      ],
      "source": [
        "# Libraries for data loading, data manipulation and data visulisation\n",
        "###import *\n",
        "\n",
        "# Libraries for data preparation and model building\n",
        "#import *\n",
        "\n",
        "# Setting global constants to ensure notebook results are reproducible\n",
        "#PARAMETER_CONSTANT = ###"
      ]
    },
    {
      "cell_type": "markdown",
      "id": "f22a6718",
      "metadata": {
        "id": "f22a6718"
      },
      "source": [
        "<a id=\"three\"></a>\n",
        "## 3. Loading the Data\n",
        "<a class=\"anchor\" id=\"1.1\"></a>\n",
        "<a href=#cont>Back to Table of Contents</a>\n",
        "\n",
        "---\n",
        "    \n",
        "| ⚡ Description: Loading the data ⚡ |\n",
        "| :--------------------------- |\n",
        "| In this section you are required to load the data from the `df_train` file into a DataFrame. |\n",
        "\n",
        "---"
      ]
    },
    {
      "cell_type": "code",
      "execution_count": 22,
      "id": "fbbb6c18",
      "metadata": {
        "ExecuteTime": {
          "end_time": "2021-06-28T08:49:35.311495Z",
          "start_time": "2021-06-28T08:49:35.295494Z"
        },
        "id": "fbbb6c18"
      },
      "outputs": [],
      "source": [
        "#df = # load the data"
      ]
    },
    {
      "cell_type": "markdown",
      "id": "81132ab3",
      "metadata": {
        "id": "81132ab3"
      },
      "source": [
        "<a id=\"four\"></a>\n",
        "## 4. Exploratory Data Analysis (EDA)\n",
        "<a class=\"anchor\" id=\"1.1\"></a>\n",
        "<a href=#cont>Back to Table of Contents</a>\n",
        "\n",
        "---\n",
        "    \n",
        "| ⚡ Description: Exploratory data analysis ⚡ |\n",
        "| :--------------------------- |\n",
        "| In this section, you are required to perform an in-depth analysis of all the variables in the DataFrame. |\n",
        "\n",
        "---\n"
      ]
    },
    {
      "cell_type": "code",
      "execution_count": 23,
      "id": "e805134e",
      "metadata": {
        "ExecuteTime": {
          "end_time": "2021-06-28T08:52:37.824204Z",
          "start_time": "2021-06-28T08:52:37.811206Z"
        },
        "id": "e805134e"
      },
      "outputs": [],
      "source": [
        "# look at data statistics"
      ]
    },
    {
      "cell_type": "code",
      "execution_count": 24,
      "id": "2fb74182",
      "metadata": {
        "id": "2fb74182"
      },
      "outputs": [],
      "source": [
        "# plot relevant feature interactions"
      ]
    },
    {
      "cell_type": "code",
      "execution_count": 25,
      "id": "6dd6ee8c",
      "metadata": {
        "id": "6dd6ee8c"
      },
      "outputs": [],
      "source": [
        "# evaluate correlation"
      ]
    },
    {
      "cell_type": "code",
      "execution_count": 26,
      "id": "de51df85",
      "metadata": {
        "id": "de51df85"
      },
      "outputs": [],
      "source": [
        "# have a look at feature distributions"
      ]
    },
    {
      "cell_type": "markdown",
      "id": "3fa93ec6",
      "metadata": {
        "id": "3fa93ec6"
      },
      "source": [
        "<a id=\"five\"></a>\n",
        "## 5. Data Engineering\n",
        "<a class=\"anchor\" id=\"1.1\"></a>\n",
        "<a href=#cont>Back to Table of Contents</a>\n",
        "\n",
        "---\n",
        "    \n",
        "| ⚡ Description: Data engineering ⚡ |\n",
        "| :--------------------------- |\n",
        "| In this section you are required to: clean the dataset, and possibly create new features - as identified in the EDA phase. |\n",
        "\n",
        "---"
      ]
    },
    {
      "cell_type": "code",
      "execution_count": 27,
      "id": "059c2f3e",
      "metadata": {
        "id": "059c2f3e"
      },
      "outputs": [],
      "source": [
        "# remove missing values/ features"
      ]
    },
    {
      "cell_type": "code",
      "execution_count": 28,
      "id": "84eea17b",
      "metadata": {
        "id": "84eea17b"
      },
      "outputs": [],
      "source": [
        "# create new features"
      ]
    },
    {
      "cell_type": "code",
      "execution_count": 29,
      "id": "59692724",
      "metadata": {
        "id": "59692724"
      },
      "outputs": [],
      "source": [
        "# engineer existing features"
      ]
    },
    {
      "cell_type": "markdown",
      "id": "43b2d523",
      "metadata": {
        "id": "43b2d523"
      },
      "source": [
        "<a id=\"six\"></a>\n",
        "## 6. Modelling\n",
        "<a class=\"anchor\" id=\"1.1\"></a>\n",
        "<a href=#cont>Back to Table of Contents</a>\n",
        "\n",
        "---\n",
        "    \n",
        "| ⚡ Description: Modelling ⚡ |\n",
        "| :-------------------------|\n",
        "\n",
        "---"
      ]
    },
    {
      "cell_type": "code",
      "execution_count": 30,
      "id": "2344b3e0",
      "metadata": {
        "id": "2344b3e0"
      },
      "outputs": [],
      "source": [
        "# split data"
      ]
    },
    {
      "cell_type": "code",
      "execution_count": 31,
      "id": "9c58df02",
      "metadata": {
        "id": "9c58df02"
      },
      "outputs": [],
      "source": [
        "# create targets and features dataset"
      ]
    },
    {
      "cell_type": "code",
      "execution_count": 32,
      "id": "20d073e0",
      "metadata": {
        "id": "20d073e0"
      },
      "outputs": [],
      "source": [
        "# create one or more ML models"
      ]
    },
    {
      "cell_type": "code",
      "execution_count": 33,
      "id": "a70c15d7",
      "metadata": {
        "id": "a70c15d7"
      },
      "outputs": [],
      "source": [
        "# evaluate one or more ML models"
      ]
    },
    {
      "cell_type": "markdown",
      "id": "6b530251",
      "metadata": {
        "id": "6b530251"
      },
      "source": [
        "<a id=\"seven\"></a>\n",
        "## 7. Model Performance\n",
        "<a class=\"anchor\" id=\"1.1\"></a>\n",
        "<a href=#cont>Back to Table of Contents</a>\n",
        "\n",
        "---\n",
        "    \n",
        "| ⚡ Description: Model performance ⚡ |\n",
        "| :--------------------------- |\n",
        "| In this section you are required to compare the relative performance of the various trained ML models on a holdout dataset and comment on what model is the best and why. |\n",
        "\n",
        "---"
      ]
    },
    {
      "cell_type": "code",
      "execution_count": 34,
      "id": "6a69b5a1",
      "metadata": {
        "id": "6a69b5a1"
      },
      "outputs": [],
      "source": [
        "# Compare model performance"
      ]
    },
    {
      "cell_type": "code",
      "execution_count": 35,
      "id": "3874a7c6",
      "metadata": {
        "id": "3874a7c6"
      },
      "outputs": [],
      "source": [
        "# Choose best model and motivate why it is the best choice"
      ]
    },
    {
      "cell_type": "markdown",
      "id": "a8ad0c0d",
      "metadata": {
        "id": "a8ad0c0d"
      },
      "source": [
        "<a id=\"eight\"></a>\n",
        "## 8. Model Explanations\n",
        "<a class=\"anchor\" id=\"1.1\"></a>\n",
        "<a href=#cont>Back to Table of Contents</a>\n",
        "\n",
        "---\n",
        "    \n",
        "| ⚡ Description: Model explanation ⚡ |\n",
        "| :--------------------------- |\n",
        "| In this section, you are required to discuss how the best performing model works in a simple way so that both technical and non-technical stakeholders can grasp the intuition behind the model's inner workings. |\n",
        "\n",
        "---"
      ]
    },
    {
      "cell_type": "code",
      "execution_count": 36,
      "id": "5ff741c2",
      "metadata": {
        "id": "5ff741c2"
      },
      "outputs": [],
      "source": [
        "# discuss chosen methods logic"
      ]
    },
    {
      "cell_type": "markdown",
      "source": [
        "COMET:Log all the necessary items:"
      ],
      "metadata": {
        "id": "jI8jL4NK7QZ1"
      },
      "id": "jI8jL4NK7QZ1"
    },
    {
      "cell_type": "code",
      "source": [
        "# experiment.log_parameters()\n",
        "# experiment.log_metric()\n",
        "experiment.end()"
      ],
      "metadata": {
        "colab": {
          "base_uri": "https://localhost:8080/"
        },
        "id": "bDhA-pST7chr",
        "outputId": "d70c2529-97ac-443b-bfb1-61a97bf4a659"
      },
      "id": "bDhA-pST7chr",
      "execution_count": 38,
      "outputs": [
        {
          "output_type": "stream",
          "name": "stderr",
          "text": [
            "COMET INFO: ---------------------------\n",
            "COMET INFO: Comet.ml Experiment Summary\n",
            "COMET INFO: ---------------------------\n",
            "COMET INFO:   Data:\n",
            "COMET INFO:     display_summary_level : 1\n",
            "COMET INFO:     url                   : https://www.comet.com/mmoshabe/general/3790896ee6ad4c1fb3c39aa0ad894e5f\n",
            "COMET INFO:   Others:\n",
            "COMET INFO:     notebook_url : https://colab.research.google.com/notebook#fileId=https%3A%2F%2Fgithub.com%2FJeanetteTsehla%2FUnsupervised-learning-2207FTDS-Team-JM2%2Fblob%2Fmmoshabe%2FUnsupervised%2520learning%25202207FTDS%2520Team%2520JM2%2520.ipynb\n",
            "COMET INFO:   Uploads:\n",
            "COMET INFO:     environment details : 1\n",
            "COMET INFO:     filename            : 1\n",
            "COMET INFO:     installed packages  : 1\n",
            "COMET INFO:     notebook            : 2\n",
            "COMET INFO:     os packages         : 1\n",
            "COMET INFO:     source_code         : 1\n",
            "COMET INFO: ---------------------------\n",
            "COMET INFO: Uploading metrics, params, and assets to Comet before program termination (may take several seconds)\n",
            "COMET INFO: The Python SDK has 3600 seconds to finish before aborting...\n"
          ]
        }
      ]
    }
  ],
  "metadata": {
    "kernelspec": {
      "display_name": "Python 3 (ipykernel)",
      "language": "python",
      "name": "python3"
    },
    "language_info": {
      "codemirror_mode": {
        "name": "ipython",
        "version": 3
      },
      "file_extension": ".py",
      "mimetype": "text/x-python",
      "name": "python",
      "nbconvert_exporter": "python",
      "pygments_lexer": "ipython3",
      "version": "3.9.12"
    },
    "latex_envs": {
      "LaTeX_envs_menu_present": true,
      "autoclose": false,
      "autocomplete": true,
      "bibliofile": "biblio.bib",
      "cite_by": "apalike",
      "current_citInitial": 1,
      "eqLabelWithNumbers": true,
      "eqNumInitial": 1,
      "hotkeys": {
        "equation": "Ctrl-E",
        "itemize": "Ctrl-I"
      },
      "labels_anchors": false,
      "latex_user_defs": false,
      "report_style_numbering": false,
      "user_envs_cfg": false
    },
    "toc": {
      "base_numbering": 1,
      "nav_menu": {},
      "number_sections": true,
      "sideBar": true,
      "skip_h1_title": false,
      "title_cell": "Table of Contents",
      "title_sidebar": "Contents",
      "toc_cell": false,
      "toc_position": {},
      "toc_section_display": true,
      "toc_window_display": false
    },
    "varInspector": {
      "cols": {
        "lenName": 16,
        "lenType": 16,
        "lenVar": 40
      },
      "kernels_config": {
        "python": {
          "delete_cmd_postfix": "",
          "delete_cmd_prefix": "del ",
          "library": "var_list.py",
          "varRefreshCmd": "print(var_dic_list())"
        },
        "r": {
          "delete_cmd_postfix": ") ",
          "delete_cmd_prefix": "rm(",
          "library": "var_list.r",
          "varRefreshCmd": "cat(var_dic_list()) "
        }
      },
      "types_to_exclude": [
        "module",
        "function",
        "builtin_function_or_method",
        "instance",
        "_Feature"
      ],
      "window_display": false
    },
    "colab": {
      "provenance": [],
      "include_colab_link": true
    }
  },
  "nbformat": 4,
  "nbformat_minor": 5
}